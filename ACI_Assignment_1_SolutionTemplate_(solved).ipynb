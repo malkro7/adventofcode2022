{
  "cells": [
    {
      "cell_type": "markdown",
      "metadata": {
        "id": "view-in-github",
        "colab_type": "text"
      },
      "source": [
        "<a href=\"https://colab.research.google.com/github/malkro7/adventofcode2022/blob/main/ACI_Assignment_1_SolutionTemplate_(solved).ipynb\" target=\"_parent\"><img src=\"https://colab.research.google.com/assets/colab-badge.svg\" alt=\"Open In Colab\"/></a>"
      ]
    },
    {
      "cell_type": "markdown",
      "metadata": {
        "id": "MzZ4dJQYF7sH"
      },
      "source": [
        "# Artificial and Computational Intelligence Assignment 1"
      ]
    },
    {
      "cell_type": "markdown",
      "metadata": {
        "id": "Fxb1aE9zF7sK"
      },
      "source": [
        "## Problem solving by Uninformed & Informed Search"
      ]
    },
    {
      "cell_type": "markdown",
      "metadata": {
        "id": "h35jIBbCF7sK"
      },
      "source": [
        "List only the BITS (Name) of active contributors in this assignment:\n",
        "1. S R Mallikarjun Krovvidi\n",
        "2. Animesh K Sahay\n",
        "3. Amit Kumar\n",
        "4. ___________________\n",
        "5. ___________________"
      ]
    },
    {
      "cell_type": "markdown",
      "metadata": {
        "id": "pt5ygv_zF7sL"
      },
      "source": [
        "Things to follow\n",
        "1.\tUse appropriate data structures to represent the graph and the path using python libraries\n",
        "2.\tProvide proper documentation\n",
        "3.\tFind the path and print it"
      ]
    },
    {
      "cell_type": "markdown",
      "metadata": {
        "id": "wZfop5ElF7sL"
      },
      "source": [
        "Coding begins here"
      ]
    },
    {
      "cell_type": "markdown",
      "metadata": {
        "id": "IL0QDMy3F7sL"
      },
      "source": [
        "### 1.\tDefine the environment in the following block"
      ]
    },
    {
      "cell_type": "markdown",
      "metadata": {
        "id": "RYwJPNLIF7sM"
      },
      "source": [
        "List the PEAS decription of the problem here in this markdown block"
      ]
    },
    {
      "cell_type": "markdown",
      "metadata": {
        "id": "XJ3cHp1IF7sM"
      },
      "source": [
        "Design the agent as PSA Agent(Problem Solving Agent)\n",
        "Clear Initial data structures to define the graph and variable declarations is expected\n",
        "IMPORTATANT: Write distinct code block as below"
      ]
    },
    {
      "cell_type": "code",
      "execution_count": null,
      "metadata": {
        "id": "osp61RsLF7sN"
      },
      "outputs": [],
      "source": [
        "import math\n",
        "import random\n",
        "import time\n",
        "import psutil\n",
        "\n",
        "graph={}\n",
        "global visited_idastar\n",
        "visited_idastar = 0\n",
        "num_mutations = 0\n",
        "def buildGraph(input=input):\n",
        "\n",
        "  # first row has number of nodes and edges -> directed graph\n",
        "  nodes, edges = input[0].split(\",\")\n",
        "  print(nodes, edges)\n",
        "  for i in range(1,len(input)):\n",
        "    d=dict()\n",
        "    node1, node2, cost, hval = input[i].strip(\"\\n\").split(\",\")\n",
        "    node1=node1.strip()\n",
        "    node2=node2.strip()\n",
        "    cost=int(cost.strip())\n",
        "    hval=int(hval.strip())\n",
        "    if (node1 not in graph):\n",
        "      d[node2]=(cost,hval)\n",
        "      graph[node1]=d\n",
        "    else:\n",
        "      d=graph.get(node1)\n",
        "      d[node2]=(cost,hval)\n",
        "      graph[node1]=d\n",
        "  return graph"
      ]
    },
    {
      "cell_type": "code",
      "execution_count": null,
      "metadata": {
        "id": "XODwoWZ0F7sO"
      },
      "outputs": [],
      "source": [
        "#Code Block : Set the matrix for transition & cost (as relevant for the given problem)\n",
        "# Heuristic function: Calculate the average cost of all paths from the current node to the goal node\n",
        "def heuristic(node):\n",
        "    total_cost = 0\n",
        "    count = 0\n",
        "    for neighbor in graph.get(node, {}):\n",
        "        total_cost += graph[node][neighbor][1]\n",
        "        count += 1\n",
        "    return total_cost / count if count != 0 else 0\n",
        "\n",
        "# Calculate fitness of a chromosome\n",
        "def fitness(chromosome):\n",
        "    cost = 0\n",
        "    for i in range(len(chromosome) - 1):\n",
        "        node1, node2 = chromosome[i], chromosome[i + 1]\n",
        "        if node1 in graph and node2 in graph[node1]:\n",
        "            cost += graph[node1][node2][1]\n",
        "        else:\n",
        "            return math.inf  # Return infinity if path is not valid\n",
        "    return cost"
      ]
    },
    {
      "cell_type": "code",
      "execution_count": null,
      "metadata": {
        "id": "ro24Gaj7F7sO"
      },
      "outputs": [],
      "source": [
        "#Code Block : Write function to design the Transition Model/Successor function. Ideally this would be called while search algorithms are implemented\n",
        "# Recursive search function\n",
        "def search(path, cost, bound, goal):\n",
        "    node = path[-1]\n",
        "    f = cost + heuristic(node)\n",
        "    if f > bound:\n",
        "        return f, False\n",
        "    if node == goal:\n",
        "        return f, True\n",
        "    min_cost = math.inf\n",
        "    for neighbor, (actual_cost, _) in graph.get(node, {}).items():\n",
        "        if neighbor not in path:\n",
        "            path.append(neighbor)\n",
        "            new_cost, found = search(path, cost + actual_cost, bound, goal)\n",
        "            if found:\n",
        "                return new_cost, True\n",
        "            if new_cost < min_cost:\n",
        "                min_cost = new_cost\n",
        "            path.pop()\n",
        "    return min_cost, False\n",
        "# Recursive search function with stats printed\n",
        "def search_stat(node, goal, cost, max_depth):\n",
        "    if node == goal:\n",
        "        return [node], 0\n",
        "    if cost > max_depth:\n",
        "        return None, cost\n",
        "    min_cost = math.inf\n",
        "    next_node = None\n",
        "    for neighbor, (actual_cost, _) in graph.get(node, {}).items():\n",
        "        visited_idastar += 1\n",
        "        result, new_max_depth = search_stat(neighbor, goal, cost + actual_cost, max_depth)\n",
        "        if result is not None and result[-1] == goal:\n",
        "            return [node] + result, 0\n",
        "        if new_max_depth < min_cost:\n",
        "            min_cost = new_max_depth\n",
        "            next_node = neighbor\n",
        "    return None, min_cost"
      ]
    },
    {
      "cell_type": "code",
      "execution_count": null,
      "metadata": {
        "id": "HIVPhrRWF7sO"
      },
      "outputs": [],
      "source": [
        "#Code block : Write fucntion to handle goal test (Must handle dynamic inputs). Ideally this would be called while search algorithms are implemented"
      ]
    },
    {
      "cell_type": "markdown",
      "metadata": {
        "id": "Z4QwDeX5F7sO"
      },
      "source": [
        "### 2.\tDefinition of Algorithm 1 (Mention the Name of the algorithm here :: IDA*)"
      ]
    },
    {
      "cell_type": "code",
      "execution_count": null,
      "metadata": {
        "id": "zD_EPCHWF7sO"
      },
      "outputs": [],
      "source": [
        "# IDA* search algorithm\n",
        "def ida_star(start, goal):\n",
        "    bound = heuristic(start)\n",
        "    path = [start]\n",
        "    while True:\n",
        "        cost, found = search(path, 0, bound, goal)\n",
        "        if found:\n",
        "            return path\n",
        "        if cost == math.inf:\n",
        "            return None\n",
        "        bound = cost\n",
        "# IDA* search algorithm with stats printed\n",
        "def ida_star_stat(start, goal):\n",
        "    start_time = time.time()\n",
        "    max_depth = float('inf')\n",
        "    while True:\n",
        "        result, new_max_depth = search_stat(start, goal, 0, max_depth)\n",
        "        if result is not None:\n",
        "            end_time = time.time()\n",
        "            print(\"Time taken:\", end_time - start_time, \"seconds\")\n",
        "            process = psutil.Process()\n",
        "            print(\"Space complexity:\", process.memory_info().rss / (1024 * 1024), \"MB\")\n",
        "            return result\n",
        "        if new_max_depth == math.inf:\n",
        "            print(\"Space complexity: Unable to find solution within memory constraints.\")\n",
        "            return None\n",
        "        max_depth = new_max_depth"
      ]
    },
    {
      "cell_type": "markdown",
      "metadata": {
        "id": "KnbdDl6HF7sO"
      },
      "source": [
        "### 3.\tDefinition of Algorithm 2 (Mention the Name of the algorithm here :: Genetic Algorithm)"
      ]
    },
    {
      "cell_type": "code",
      "execution_count": null,
      "metadata": {
        "id": "3HYh7-eJF7sP"
      },
      "outputs": [],
      "source": [
        "# Generate random chromosome\n",
        "def generate_chromosome():\n",
        "    return random.sample(list(graph.keys()), len(graph))\n",
        "\n",
        "# Crossover operation\n",
        "def crossover(parent1, parent2):\n",
        "    crossover_point = random.randint(0, len(parent1) - 1)\n",
        "    child1 = parent1[:crossover_point]\n",
        "    child2 = [gene for gene in parent2 if gene not in child1]\n",
        "    return child1 + child2\n",
        "\n",
        "# Mutation operation\n",
        "def mutate(chromosome):\n",
        "    index1, index2 = random.sample(range(len(chromosome)), 2)\n",
        "    chromosome[index1], chromosome[index2] = chromosome[index2], chromosome[index1]\n",
        "    return chromosome\n",
        "\n",
        "# Genetic algorithm\n",
        "def genetic_algorithm(population_size, generations):\n",
        "    population = [generate_chromosome() for _ in range(population_size)]\n",
        "    for _ in range(generations):\n",
        "        population = sorted(population, key=lambda x: fitness(x))\n",
        "        new_population = []\n",
        "        for _ in range(population_size // 2):\n",
        "            parent1, parent2 = random.sample(population[:population_size // 2], 2)\n",
        "            child1 = crossover(parent1, parent2)\n",
        "            child2 = crossover(parent2, parent1)\n",
        "            new_population.extend([mutate(child1), mutate(child2)])\n",
        "        population = new_population\n",
        "    return min(population, key=fitness)"
      ]
    },
    {
      "cell_type": "markdown",
      "metadata": {
        "id": "LEV2XHccF7sP"
      },
      "source": [
        "### DYNAMIC INPUT"
      ]
    },
    {
      "cell_type": "markdown",
      "metadata": {
        "id": "CylYRo_DF7sP"
      },
      "source": [
        "IMPORTANT : Dynamic Input must be got in this section. Display the possible states to choose from:\n",
        "This is applicable for all the relevent problems as mentioned in the question."
      ]
    },
    {
      "cell_type": "code",
      "execution_count": null,
      "metadata": {
        "id": "Q5t1Lc-wF7sP",
        "colab": {
          "base_uri": "https://localhost:8080/"
        },
        "outputId": "50dd7958-2e9f-4afc-c844-5ae2185d7e46"
      },
      "outputs": [
        {
          "output_type": "stream",
          "name": "stdout",
          "text": [
            "7 9\n"
          ]
        }
      ],
      "source": [
        "#Code Block : Function & call to get inputs (start/end state)\n",
        "\n",
        "file = \"/content/sample_data/aci_193_graph_1.csv\"\n",
        "with open(file) as f:\n",
        "    input = f.read().splitlines()\n",
        "    buildGraph(input)\n",
        "\n"
      ]
    },
    {
      "cell_type": "markdown",
      "metadata": {
        "id": "xsfOP81lF7sP"
      },
      "source": [
        "### 4.\tCalling the search algorithms\n",
        "(For bidirectional search in below sections first part can be used as per Hint provided. Under second section other combinations as per Hint or your choice of 2 algorithms can be called .As an analyst suggest suitable approximation in the comparitive analysis section)"
      ]
    },
    {
      "cell_type": "code",
      "execution_count": null,
      "metadata": {
        "id": "Og5zI9thF7sP",
        "colab": {
          "base_uri": "https://localhost:8080/"
        },
        "outputId": "61dff975-10d5-4834-8e3a-0fbb1353aee2"
      },
      "outputs": [
        {
          "output_type": "stream",
          "name": "stdout",
          "text": [
            "Optimal path from New Delhi to Chennai : ['New Delhi', 'B', 'Chennai']\n"
          ]
        }
      ],
      "source": [
        "#Invoke algorithm 1 (Should Print the solution, path, cost etc., (As mentioned in the problem))\n",
        "# Test the algorithm IDA*\n",
        "start_node = 'New Delhi'\n",
        "goal_node = 'Chennai'\n",
        "path = ida_star(start_node, goal_node)\n",
        "if path:\n",
        "    print(\"Optimal path from\", start_node, \"to\", goal_node, \":\", path)\n",
        "else:\n",
        "    print(\"No path found from\", start_node, \"to\", goal_node)"
      ]
    },
    {
      "cell_type": "code",
      "execution_count": null,
      "metadata": {
        "id": "u3MJeA6eF7sP",
        "colab": {
          "base_uri": "https://localhost:8080/"
        },
        "outputId": "fa444f5e-7096-4f30-d451-a663b306fd73"
      },
      "outputs": [
        {
          "output_type": "stream",
          "name": "stdout",
          "text": [
            "Optimal path from New Delhi to Chennai : ['E', 'D', 'B', 'C', 'New Delhi', 'A']\n",
            "Total cost: inf\n"
          ]
        }
      ],
      "source": [
        "#Invoke algorithm 2 (Should Print the solution, path, cost etc., (As mentioned in the problem))\n",
        "# Test the genetic algorithm\n",
        "start_node = 'New Delhi'\n",
        "goal_node = 'Chennai'\n",
        "solution = genetic_algorithm(population_size=100, generations=100)\n",
        "print(\"Optimal path from\", start_node, \"to\", goal_node, \":\", solution)\n",
        "print(\"Total cost:\", fitness(solution))"
      ]
    },
    {
      "cell_type": "markdown",
      "metadata": {
        "id": "TOU3Rem6F7sQ"
      },
      "source": [
        "### 5.\tComparitive Analysis"
      ]
    },
    {
      "cell_type": "code",
      "execution_count": 67,
      "metadata": {
        "id": "HG6fWwiIF7sQ",
        "colab": {
          "base_uri": "https://localhost:8080/",
          "height": 375
        },
        "outputId": "28d50c59-81fc-45d1-f011-3ae9d82e2db2"
      },
      "outputs": [
        {
          "output_type": "error",
          "ename": "UnboundLocalError",
          "evalue": "local variable 'visited_idastar' referenced before assignment",
          "traceback": [
            "\u001b[0;31m---------------------------------------------------------------------------\u001b[0m",
            "\u001b[0;31mUnboundLocalError\u001b[0m                         Traceback (most recent call last)",
            "\u001b[0;32m<ipython-input-67-4517b1102262>\u001b[0m in \u001b[0;36m<cell line: 5>\u001b[0;34m()\u001b[0m\n\u001b[1;32m      3\u001b[0m \u001b[0mstart_node\u001b[0m \u001b[0;34m=\u001b[0m \u001b[0;34m'New Delhi'\u001b[0m\u001b[0;34m\u001b[0m\u001b[0;34m\u001b[0m\u001b[0m\n\u001b[1;32m      4\u001b[0m \u001b[0mgoal_node\u001b[0m \u001b[0;34m=\u001b[0m \u001b[0;34m'Chennai'\u001b[0m\u001b[0;34m\u001b[0m\u001b[0;34m\u001b[0m\u001b[0m\n\u001b[0;32m----> 5\u001b[0;31m \u001b[0mpath\u001b[0m \u001b[0;34m=\u001b[0m \u001b[0mida_star_stat\u001b[0m\u001b[0;34m(\u001b[0m\u001b[0mstart_node\u001b[0m\u001b[0;34m,\u001b[0m \u001b[0mgoal_node\u001b[0m\u001b[0;34m)\u001b[0m\u001b[0;34m\u001b[0m\u001b[0;34m\u001b[0m\u001b[0m\n\u001b[0m\u001b[1;32m      6\u001b[0m \u001b[0;32mif\u001b[0m \u001b[0mpath\u001b[0m\u001b[0;34m:\u001b[0m\u001b[0;34m\u001b[0m\u001b[0;34m\u001b[0m\u001b[0m\n\u001b[1;32m      7\u001b[0m     \u001b[0mprint\u001b[0m\u001b[0;34m(\u001b[0m\u001b[0;34m\"Optimal path from\"\u001b[0m\u001b[0;34m,\u001b[0m \u001b[0mstart_node\u001b[0m\u001b[0;34m,\u001b[0m \u001b[0;34m\"to\"\u001b[0m\u001b[0;34m,\u001b[0m \u001b[0mgoal_node\u001b[0m\u001b[0;34m,\u001b[0m \u001b[0;34m\":\"\u001b[0m\u001b[0;34m,\u001b[0m \u001b[0mpath\u001b[0m\u001b[0;34m)\u001b[0m\u001b[0;34m\u001b[0m\u001b[0;34m\u001b[0m\u001b[0m\n",
            "\u001b[0;32m<ipython-input-61-927581399865>\u001b[0m in \u001b[0;36mida_star_stat\u001b[0;34m(start, goal)\u001b[0m\n\u001b[1;32m     15\u001b[0m     \u001b[0mmax_depth\u001b[0m \u001b[0;34m=\u001b[0m \u001b[0mfloat\u001b[0m\u001b[0;34m(\u001b[0m\u001b[0;34m'inf'\u001b[0m\u001b[0;34m)\u001b[0m\u001b[0;34m\u001b[0m\u001b[0;34m\u001b[0m\u001b[0m\n\u001b[1;32m     16\u001b[0m     \u001b[0;32mwhile\u001b[0m \u001b[0;32mTrue\u001b[0m\u001b[0;34m:\u001b[0m\u001b[0;34m\u001b[0m\u001b[0;34m\u001b[0m\u001b[0m\n\u001b[0;32m---> 17\u001b[0;31m         \u001b[0mresult\u001b[0m\u001b[0;34m,\u001b[0m \u001b[0mnew_max_depth\u001b[0m \u001b[0;34m=\u001b[0m \u001b[0msearch_stat\u001b[0m\u001b[0;34m(\u001b[0m\u001b[0mstart\u001b[0m\u001b[0;34m,\u001b[0m \u001b[0mgoal\u001b[0m\u001b[0;34m,\u001b[0m \u001b[0;36m0\u001b[0m\u001b[0;34m,\u001b[0m \u001b[0mmax_depth\u001b[0m\u001b[0;34m)\u001b[0m\u001b[0;34m\u001b[0m\u001b[0;34m\u001b[0m\u001b[0m\n\u001b[0m\u001b[1;32m     18\u001b[0m         \u001b[0;32mif\u001b[0m \u001b[0mresult\u001b[0m \u001b[0;32mis\u001b[0m \u001b[0;32mnot\u001b[0m \u001b[0;32mNone\u001b[0m\u001b[0;34m:\u001b[0m\u001b[0;34m\u001b[0m\u001b[0;34m\u001b[0m\u001b[0m\n\u001b[1;32m     19\u001b[0m             \u001b[0mend_time\u001b[0m \u001b[0;34m=\u001b[0m \u001b[0mtime\u001b[0m\u001b[0;34m.\u001b[0m\u001b[0mtime\u001b[0m\u001b[0;34m(\u001b[0m\u001b[0;34m)\u001b[0m\u001b[0;34m\u001b[0m\u001b[0;34m\u001b[0m\u001b[0m\n",
            "\u001b[0;32m<ipython-input-59-dc63c5f2cbb7>\u001b[0m in \u001b[0;36msearch_stat\u001b[0;34m(node, goal, cost, max_depth)\u001b[0m\n\u001b[1;32m     28\u001b[0m     \u001b[0mnext_node\u001b[0m \u001b[0;34m=\u001b[0m \u001b[0;32mNone\u001b[0m\u001b[0;34m\u001b[0m\u001b[0;34m\u001b[0m\u001b[0m\n\u001b[1;32m     29\u001b[0m     \u001b[0;32mfor\u001b[0m \u001b[0mneighbor\u001b[0m\u001b[0;34m,\u001b[0m \u001b[0;34m(\u001b[0m\u001b[0mactual_cost\u001b[0m\u001b[0;34m,\u001b[0m \u001b[0m_\u001b[0m\u001b[0;34m)\u001b[0m \u001b[0;32min\u001b[0m \u001b[0mgraph\u001b[0m\u001b[0;34m.\u001b[0m\u001b[0mget\u001b[0m\u001b[0;34m(\u001b[0m\u001b[0mnode\u001b[0m\u001b[0;34m,\u001b[0m \u001b[0;34m{\u001b[0m\u001b[0;34m}\u001b[0m\u001b[0;34m)\u001b[0m\u001b[0;34m.\u001b[0m\u001b[0mitems\u001b[0m\u001b[0;34m(\u001b[0m\u001b[0;34m)\u001b[0m\u001b[0;34m:\u001b[0m\u001b[0;34m\u001b[0m\u001b[0;34m\u001b[0m\u001b[0m\n\u001b[0;32m---> 30\u001b[0;31m         \u001b[0mvisited_idastar\u001b[0m \u001b[0;34m+=\u001b[0m \u001b[0;36m1\u001b[0m\u001b[0;34m\u001b[0m\u001b[0;34m\u001b[0m\u001b[0m\n\u001b[0m\u001b[1;32m     31\u001b[0m         \u001b[0mresult\u001b[0m\u001b[0;34m,\u001b[0m \u001b[0mnew_max_depth\u001b[0m \u001b[0;34m=\u001b[0m \u001b[0msearch_stat\u001b[0m\u001b[0;34m(\u001b[0m\u001b[0mneighbor\u001b[0m\u001b[0;34m,\u001b[0m \u001b[0mgoal\u001b[0m\u001b[0;34m,\u001b[0m \u001b[0mcost\u001b[0m \u001b[0;34m+\u001b[0m \u001b[0mactual_cost\u001b[0m\u001b[0;34m,\u001b[0m \u001b[0mmax_depth\u001b[0m\u001b[0;34m)\u001b[0m\u001b[0;34m\u001b[0m\u001b[0;34m\u001b[0m\u001b[0m\n\u001b[1;32m     32\u001b[0m         \u001b[0;32mif\u001b[0m \u001b[0mresult\u001b[0m \u001b[0;32mis\u001b[0m \u001b[0;32mnot\u001b[0m \u001b[0;32mNone\u001b[0m \u001b[0;32mand\u001b[0m \u001b[0mresult\u001b[0m\u001b[0;34m[\u001b[0m\u001b[0;34m-\u001b[0m\u001b[0;36m1\u001b[0m\u001b[0;34m]\u001b[0m \u001b[0;34m==\u001b[0m \u001b[0mgoal\u001b[0m\u001b[0;34m:\u001b[0m\u001b[0;34m\u001b[0m\u001b[0;34m\u001b[0m\u001b[0m\n",
            "\u001b[0;31mUnboundLocalError\u001b[0m: local variable 'visited_idastar' referenced before assignment"
          ]
        }
      ],
      "source": [
        "#Code Block : Print the Time & Space complexity of algorithm 1\n",
        "# Test the algorithm\n",
        "start_node = 'New Delhi'\n",
        "goal_node = 'Chennai'\n",
        "path = ida_star_stat(start_node, goal_node)\n",
        "if path:\n",
        "    print(\"Optimal path from\", start_node, \"to\", goal_node, \":\", path)\n",
        "else:\n",
        "    print(\"No path found from\", start_node, \"to\", goal_node)\n",
        "print(\"space complexity interms of nodes\", visited_idastar)"
      ]
    },
    {
      "cell_type": "code",
      "execution_count": null,
      "metadata": {
        "id": "xMButLKCF7sQ",
        "outputId": "14faa265-de26-4c6a-81ef-d6801e8dbc59"
      },
      "outputs": [
        {
          "name": "stdout",
          "output_type": "stream",
          "text": [
            "Time taken: 0.19238519668579102 seconds\n",
            "Optimal path from New Delhi to Chennai : ['E', 'New Delhi', 'D', 'B', 'C', 'A']\n",
            "Total cost: inf\n"
          ]
        }
      ],
      "source": [
        "#Code Block : Print the Time & Space complexity of algorithm 2\n",
        "\n",
        "import random\n",
        "import math\n",
        "import time\n",
        "\n",
        "# Graph representation\n",
        "graph = {\n",
        "    'New Delhi': {'A': (5, 64), 'B': (2, 60), 'C': (7, 82), 'Chennai': (10, 85)},\n",
        "    'A': {'E': (1, 110)},\n",
        "    'B': {'Chennai': (3, 62)},\n",
        "    'C': {'D': (5, 45)},\n",
        "    'E': {'Chennai': (4, 55)},\n",
        "    'D': {'Chennai': (6, 32)}\n",
        "}\n",
        "\n",
        "# Generate random chromosome\n",
        "def generate_chromosome():\n",
        "    return random.sample(list(graph.keys()), len(graph))\n",
        "\n",
        "# Calculate fitness of a chromosome\n",
        "def fitness(chromosome):\n",
        "    cost = 0\n",
        "    for i in range(len(chromosome) - 1):\n",
        "        node1, node2 = chromosome[i], chromosome[i + 1]\n",
        "        if node1 in graph and node2 in graph[node1]:\n",
        "            cost += graph[node1][node2][1]\n",
        "        else:\n",
        "            return math.inf  # Return infinity if path is not valid\n",
        "    return cost\n",
        "\n",
        "# Crossover operation\n",
        "def crossover(parent1, parent2):\n",
        "    crossover_point = random.randint(0, len(parent1) - 1)\n",
        "    child1 = parent1[:crossover_point]\n",
        "    child2 = [gene for gene in parent2 if gene not in child1]\n",
        "    return child1 + child2\n",
        "\n",
        "# Mutation operation\n",
        "def mutate(chromosome):\n",
        "    index1, index2 = random.sample(range(len(chromosome)), 2)\n",
        "    chromosome[index1], chromosome[index2] = chromosome[index2], chromosome[index1]\n",
        "    return chromosome\n",
        "\n",
        "# Genetic algorithm\n",
        "def genetic_algorithm(population_size, generations):\n",
        "    start_time = time.time()  # Start time measurement\n",
        "    population = [generate_chromosome() for _ in range(population_size)]\n",
        "    for _ in range(generations):\n",
        "        population = sorted(population, key=lambda x: fitness(x))\n",
        "        new_population = []\n",
        "        for _ in range(population_size // 2):\n",
        "            parent1, parent2 = random.sample(population[:population_size // 2], 2)\n",
        "            child1 = crossover(parent1, parent2)\n",
        "            child2 = crossover(parent2, parent1)\n",
        "            new_population.extend([mutate(child1), mutate(child2)])\n",
        "        population = new_population\n",
        "    end_time = time.time()  # End time measurement\n",
        "    print(\"Time taken:\", end_time - start_time, \"seconds\")  # Print time taken\n",
        "\n",
        "    return min(population, key=fitness)\n",
        "\n",
        "# Test the genetic algorithm\n",
        "start_node = 'New Delhi'\n",
        "goal_node = 'Chennai'\n",
        "solution = genetic_algorithm(population_size=100, generations=100)\n",
        "print(\"Optimal path from\", start_node, \"to\", goal_node, \":\", solution)\n",
        "print(\"Total cost:\", fitness(solution))"
      ]
    },
    {
      "cell_type": "markdown",
      "metadata": {
        "id": "y2nXwAlsF7sQ"
      },
      "source": [
        "### 6.\tProvide your comparitive analysis or findings in no more than 3 lines in below section"
      ]
    },
    {
      "cell_type": "markdown",
      "metadata": {
        "id": "si483-zoF7sQ"
      },
      "source": [
        "Comparison : _______________________________________________\n",
        "\n",
        "________________________________________________________\n",
        "\n",
        "_________________________________________________________"
      ]
    }
  ],
  "metadata": {
    "colab": {
      "provenance": [],
      "include_colab_link": true
    },
    "kernelspec": {
      "display_name": "Python 3 (ipykernel)",
      "language": "python",
      "name": "python3"
    },
    "language_info": {
      "codemirror_mode": {
        "name": "ipython",
        "version": 3
      },
      "file_extension": ".py",
      "mimetype": "text/x-python",
      "name": "python",
      "nbconvert_exporter": "python",
      "pygments_lexer": "ipython3",
      "version": "3.11.5"
    }
  },
  "nbformat": 4,
  "nbformat_minor": 0
}